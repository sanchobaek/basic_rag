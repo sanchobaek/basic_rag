{
 "cells": [
  {
   "cell_type": "code",
   "execution_count": 9,
   "id": "047cabe8",
   "metadata": {},
   "outputs": [],
   "source": [
    "from langchain_core.output_parsers import StrOutputParser\n",
    "from langchain_core.prompts import ChatPromptTemplate\n",
    "from langchain_anthropic import ChatAnthropic\n",
    "import asyncio"
   ]
  },
  {
   "cell_type": "code",
   "execution_count": null,
   "id": "f59a01bf",
   "metadata": {},
   "outputs": [],
   "source": [
    "# 1. 프롬프트, LLM, 파서로 체인 만들기\n",
    "prompt = ChatPromptTemplate.from_template(\"앵무새에 대한 농담 하나만 해줘!\")\n",
    "model = ChatAnthropic(\n",
    "    model=\"claude-3-5-haiku-20241022\",  # 원하는 모델명 사용\n",
    "    streaming=True                     # 스트리밍 활성화\n",
    ")\n",
    "parser = StrOutputParser()\n",
    "chain = prompt | model | parser\n"
   ]
  },
  {
   "cell_type": "code",
   "execution_count": 14,
   "id": "cd3d9884",
   "metadata": {},
   "outputs": [],
   "source": [
    "# 2. 비동기 스트리밍 실행 함수 \n",
    "async def main():\n",
    "    # chain.astream()은 텍스트 chunk 단위로 스트림!\n",
    "    async for chunk in chain.astream({}):\n",
    "        print(chunk, end=\"\", flush=True)\n"
   ]
  },
  {
   "cell_type": "code",
   "execution_count": 15,
   "id": "644e2537",
   "metadata": {},
   "outputs": [
    {
     "name": "stdout",
     "output_type": "stream",
     "text": [
      "여기 앵무새 농담 하나 있어요:\n",
      "\n",
      "앵무새가 주인에게 물었어요. \"내 이름이 뭐야?\"\n",
      "주인이 대답했죠. \"앵무새야.\"\n",
      "그러자 앵무새가 말했어요. \"아, 그렇구나. 내가 물어본 걸 깜빡했네!\""
     ]
    }
   ],
   "source": [
    "# 3. 실행\n",
    "await main()"
   ]
  },
  {
   "cell_type": "code",
   "execution_count": null,
   "id": "ce1e6a04",
   "metadata": {},
   "outputs": [],
   "source": []
  }
 ],
 "metadata": {
  "kernelspec": {
   "display_name": "3.11.10",
   "language": "python",
   "name": "python3"
  },
  "language_info": {
   "codemirror_mode": {
    "name": "ipython",
    "version": 3
   },
   "file_extension": ".py",
   "mimetype": "text/x-python",
   "name": "python",
   "nbconvert_exporter": "python",
   "pygments_lexer": "ipython3",
   "version": "3.11.10"
  }
 },
 "nbformat": 4,
 "nbformat_minor": 5
}
