{
 "cells": [
  {
   "cell_type": "markdown",
   "id": "2004ba21",
   "metadata": {},
   "source": [
    "RAG - Loader(UpstageDocumentParseLoader)"
   ]
  },
  {
   "cell_type": "code",
   "execution_count": null,
   "id": "93d9a1f9",
   "metadata": {},
   "outputs": [],
   "source": [
    "# .env 파일 로드\n",
    "from dotenv import load_dotenv\n",
    "load_dotenv()  # .env 파일에서 환경변수 로드\n",
    "\n",
    "#로더 실행\n",
    "from langchain_upstage import UpstageDocumentParseLoader\n",
    "\n",
    "file_path = \"./test_modified.pdf\"\n",
    "\n",
    "loader = UpstageDocumentParseLoader(\n",
    "    file_path,\n",
    "    split=\"page\",  # 페이지별로 분할\n",
    "    output_format=\"text\",  # 텍스트 형태로 출력\n",
    "    ocr=\"auto\",  # 자동 OCR 사용\n",
    "    coordinates=True,  # 좌표 정보 포함\n",
    ")\n",
    "\n",
    "\n",
    "docs = loader.load()"
   ]
  },
  {
   "cell_type": "code",
   "execution_count": null,
   "id": "ab33013e",
   "metadata": {},
   "outputs": [],
   "source": [
    "print(docs[21].page_content)"
   ]
  },
  {
   "cell_type": "markdown",
   "id": "3d44f9b7",
   "metadata": {},
   "source": [
    "Rag - Chunking"
   ]
  },
  {
   "cell_type": "code",
   "execution_count": null,
   "id": "bfdbda95",
   "metadata": {},
   "outputs": [],
   "source": [
    "from langchain.text_splitter import RecursiveCharacterTextSplitter\n",
    "\n",
    "#  문서 자르기 (AI가 읽기 쉬운 크기로 쪼개기)\n",
    "splitter = RecursiveCharacterTextSplitter(chunk_size=1500, chunk_overlap=300)\n",
    "docs_spliiter = splitter.split_documents(docs)"
   ]
  },
  {
   "cell_type": "code",
   "execution_count": null,
   "id": "8fedb7d6",
   "metadata": {},
   "outputs": [
    {
     "data": {
      "text/plain": [
       "52"
      ]
     },
     "execution_count": 52,
     "metadata": {},
     "output_type": "execute_result"
    }
   ],
   "source": [
    "len(docs_spliiter)"
   ]
  },
  {
   "cell_type": "markdown",
   "id": "caf3aab1",
   "metadata": {},
   "source": [
    "Rag - Embedding"
   ]
  },
  {
   "cell_type": "code",
   "execution_count": null,
   "id": "78aeb166",
   "metadata": {},
   "outputs": [],
   "source": [
    "from langchain_huggingface import HuggingFaceEmbeddings\n",
    "\n",
    "\n",
    "model_name = \"intfloat/multilingual-e5-large-instruct\"\n",
    "\n",
    "hf_embeddings = HuggingFaceEmbeddings(\n",
    "    model_name=model_name,\n",
    "    model_kwargs={\"device\": \"mps\"},\n",
    "    encode_kwargs={\"normalize_embeddings\": True},\n",
    ")"
   ]
  },
  {
   "cell_type": "code",
   "execution_count": null,
   "id": "a0b630ea",
   "metadata": {},
   "outputs": [
    {
     "name": "stdout",
     "output_type": "stream",
     "text": [
      "1024\n"
     ]
    }
   ],
   "source": [
    "from langchain_community.docstore.in_memory import InMemoryDocstore\n",
    "\n",
    "embeddings = HuggingFaceEmbeddings(model=\"intfloat/multilingual-e5-large-instruct\")\n",
    "\n",
    "dimension_size = len(embeddings.embed_query(\"hello world\"))\n",
    "print(dimension_size)"
   ]
  },
  {
   "cell_type": "markdown",
   "id": "f52858f3",
   "metadata": {},
   "source": [
    "Rag - Vector Store"
   ]
  },
  {
   "cell_type": "code",
   "execution_count": null,
   "id": "72f2ba44",
   "metadata": {},
   "outputs": [],
   "source": [
    "from langchain_community.vectorstores import FAISS\n",
    "import faiss\n",
    "\n",
    "db = FAISS(\n",
    "    embedding_function=embeddings,\n",
    "    index=faiss.IndexFlatL2(dimension_size),\n",
    "    docstore=InMemoryDocstore(),\n",
    "    index_to_docstore_id={},\n",
    ")"
   ]
  },
  {
   "cell_type": "code",
   "execution_count": null,
   "id": "068c9e72",
   "metadata": {},
   "outputs": [],
   "source": [
    "# split_doc1 → docs 또는 올바른 변수명 사용\n",
    "db = FAISS.from_documents(documents=docs, embedding=hf_embeddings)"
   ]
  },
  {
   "cell_type": "code",
   "execution_count": null,
   "id": "96ca47da",
   "metadata": {},
   "outputs": [],
   "source": [
    "db.index_to_docstore_id"
   ]
  },
  {
   "cell_type": "code",
   "execution_count": null,
   "id": "744c4fd5",
   "metadata": {},
   "outputs": [],
   "source": [
    "db.docstore._dict"
   ]
  },
  {
   "cell_type": "markdown",
   "id": "e647a517",
   "metadata": {},
   "source": [
    "Rag - retriever"
   ]
  },
  {
   "cell_type": "code",
   "execution_count": null,
   "id": "a8ff2e6a",
   "metadata": {},
   "outputs": [],
   "source": [
    "# 검색 테스트\n",
    "query = \"아주대 기계공학과 고교추천전형 몇명 모집해??\"\n",
    "results = db.similarity_search(query, k=3)\n",
    "\n",
    "for i, doc in enumerate(results):\n",
    "    print(f\"\\n=== {i+1}번째 결과 ===\")\n",
    "    print(f\"내용: {doc.page_content[:700]}...\")\n",
    "    print(f\"페이지: {doc.metadata.get('page', 'N/A')}\")"
   ]
  },
  {
   "cell_type": "code",
   "execution_count": null,
   "id": "6b608435",
   "metadata": {},
   "outputs": [],
   "source": [
    "vectorstore = FAISS.from_documents(docs, hf_embeddings)"
   ]
  },
  {
   "cell_type": "code",
   "execution_count": 70,
   "id": "27a3da38",
   "metadata": {},
   "outputs": [],
   "source": [
    "retriever = vectorstore.as_retriever()"
   ]
  },
  {
   "cell_type": "markdown",
   "id": "b14cfc99",
   "metadata": {},
   "source": [
    "Rag - Formating / Prompt"
   ]
  },
  {
   "cell_type": "code",
   "execution_count": null,
   "id": "30217fef",
   "metadata": {},
   "outputs": [],
   "source": [
    "from langchain_anthropic import ChatAnthropic\n",
    "from langchain.prompts import ChatPromptTemplate\n",
    "from langchain_core.runnables import RunnablePassthrough\n",
    "from langchain_core.output_parsers import StrOutputParser\n",
    "from dotenv import load_dotenv"
   ]
  },
  {
   "cell_type": "code",
   "execution_count": null,
   "id": "d85ea006",
   "metadata": {},
   "outputs": [],
   "source": [
    "load_dotenv()\n",
    "\n",
    "\n",
    "llm = ChatAnthropic(\n",
    "    model=\"claude-3-5-haiku-20241022\", temperature=0  # 최신 Claude3.5 Sonnet 예시\n",
    ")\n",
    "\n",
    "\n",
    "# 📝 문서 포맷팅 함수 (중요!)\n",
    "def format_docs(docs):\n",
    "    return \"\\n\\n\".join(doc.page_content for doc in docs)\n",
    "\n",
    "\n",
    "prompt = ChatPromptTemplate.from_template(\n",
    "    \"\"\"\n",
    "아래 문서를 참고하여 질문에 답하세요.\n",
    "모르겠으면 모른다고 솔직하게 답하세요.\n",
    "\n",
    "문서:\n",
    "{context}\n",
    "\n",
    "질문: {question}\n",
    "\"\"\"\n",
    ")\n",
    "\n",
    "rag_chain = (\n",
    "    {\"context\": retriever | format_docs, \"question\": RunnablePassthrough()}\n",
    "    | prompt\n",
    "    | llm\n",
    "    | StrOutputParser()\n",
    ")"
   ]
  },
  {
   "cell_type": "markdown",
   "id": "e1ba8109",
   "metadata": {},
   "source": [
    "Rag - QnA"
   ]
  },
  {
   "cell_type": "code",
   "execution_count": 100,
   "id": "9a807ab8",
   "metadata": {},
   "outputs": [
    {
     "name": "stdout",
     "output_type": "stream",
     "text": [
      "💬 AI의 답변:\n",
      "\n",
      "문서를 보면 산업공학과의 수시모집 인원은 총 20명입니다.\n"
     ]
    }
   ],
   "source": [
    "# 질문하기 - 파이프 방식\n",
    "question = \"아주대 산업공학 수시로 몇명 뽑아 ?\"\n",
    "response = rag_chain.invoke(question)  # 직접 문자열 전달 (딕셔너리가 아님!)\n",
    "print(\"💬 AI의 답변:\\n\")\n",
    "print(response)  # StrOutputParser() 덕분에 바로 문자열로 출력됨"
   ]
  },
  {
   "cell_type": "code",
   "execution_count": null,
   "id": "c34d4a0a",
   "metadata": {},
   "outputs": [],
   "source": []
  }
 ],
 "metadata": {
  "kernelspec": {
   "display_name": "3.11.10",
   "language": "python",
   "name": "python3"
  },
  "language_info": {
   "codemirror_mode": {
    "name": "ipython",
    "version": 3
   },
   "file_extension": ".py",
   "mimetype": "text/x-python",
   "name": "python",
   "nbconvert_exporter": "python",
   "pygments_lexer": "ipython3",
   "version": "3.11.10"
  }
 },
 "nbformat": 4,
 "nbformat_minor": 5
}
