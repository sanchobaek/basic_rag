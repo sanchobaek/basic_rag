{
 "cells": [
  {
   "cell_type": "code",
   "execution_count": null,
   "id": "1d204f71",
   "metadata": {},
   "outputs": [
    {
     "name": "stdout",
     "output_type": "stream",
     "text": [
      "Collecting langchain-anthropic\n",
      "  Downloading langchain_anthropic-0.3.17-py3-none-any.whl.metadata (1.9 kB)\n",
      "Collecting anthropic<1,>=0.57.0 (from langchain-anthropic)\n",
      "  Downloading anthropic-0.58.2-py3-none-any.whl.metadata (27 kB)\n",
      "Requirement already satisfied: langchain-core<1.0.0,>=0.3.68 in /Users/baegjonghun/.pyenv/versions/3.11.10/lib/python3.11/site-packages (from langchain-anthropic) (0.3.69)\n",
      "Requirement already satisfied: pydantic<3.0.0,>=2.7.4 in /Users/baegjonghun/.pyenv/versions/3.11.10/lib/python3.11/site-packages (from langchain-anthropic) (2.11.3)\n",
      "Requirement already satisfied: anyio<5,>=3.5.0 in /Users/baegjonghun/.pyenv/versions/3.11.10/lib/python3.11/site-packages (from anthropic<1,>=0.57.0->langchain-anthropic) (4.9.0)\n",
      "Requirement already satisfied: distro<2,>=1.7.0 in /Users/baegjonghun/.pyenv/versions/3.11.10/lib/python3.11/site-packages (from anthropic<1,>=0.57.0->langchain-anthropic) (1.9.0)\n",
      "Requirement already satisfied: httpx<1,>=0.25.0 in /Users/baegjonghun/.pyenv/versions/3.11.10/lib/python3.11/site-packages (from anthropic<1,>=0.57.0->langchain-anthropic) (0.28.1)\n",
      "Requirement already satisfied: jiter<1,>=0.4.0 in /Users/baegjonghun/.pyenv/versions/3.11.10/lib/python3.11/site-packages (from anthropic<1,>=0.57.0->langchain-anthropic) (0.9.0)\n",
      "Requirement already satisfied: sniffio in /Users/baegjonghun/.pyenv/versions/3.11.10/lib/python3.11/site-packages (from anthropic<1,>=0.57.0->langchain-anthropic) (1.3.1)\n",
      "Requirement already satisfied: typing-extensions<5,>=4.10 in /Users/baegjonghun/.pyenv/versions/3.11.10/lib/python3.11/site-packages (from anthropic<1,>=0.57.0->langchain-anthropic) (4.14.1)\n",
      "Requirement already satisfied: idna>=2.8 in /Users/baegjonghun/.pyenv/versions/3.11.10/lib/python3.11/site-packages (from anyio<5,>=3.5.0->anthropic<1,>=0.57.0->langchain-anthropic) (3.10)\n",
      "Requirement already satisfied: certifi in /Users/baegjonghun/.pyenv/versions/3.11.10/lib/python3.11/site-packages (from httpx<1,>=0.25.0->anthropic<1,>=0.57.0->langchain-anthropic) (2025.7.9)\n",
      "Requirement already satisfied: httpcore==1.* in /Users/baegjonghun/.pyenv/versions/3.11.10/lib/python3.11/site-packages (from httpx<1,>=0.25.0->anthropic<1,>=0.57.0->langchain-anthropic) (1.0.9)\n",
      "Requirement already satisfied: h11>=0.16 in /Users/baegjonghun/.pyenv/versions/3.11.10/lib/python3.11/site-packages (from httpcore==1.*->httpx<1,>=0.25.0->anthropic<1,>=0.57.0->langchain-anthropic) (0.16.0)\n",
      "Requirement already satisfied: langsmith>=0.3.45 in /Users/baegjonghun/.pyenv/versions/3.11.10/lib/python3.11/site-packages (from langchain-core<1.0.0,>=0.3.68->langchain-anthropic) (0.4.5)\n",
      "Requirement already satisfied: tenacity!=8.4.0,<10.0.0,>=8.1.0 in /Users/baegjonghun/.pyenv/versions/3.11.10/lib/python3.11/site-packages (from langchain-core<1.0.0,>=0.3.68->langchain-anthropic) (9.1.2)\n",
      "Requirement already satisfied: jsonpatch<2.0,>=1.33 in /Users/baegjonghun/.pyenv/versions/3.11.10/lib/python3.11/site-packages (from langchain-core<1.0.0,>=0.3.68->langchain-anthropic) (1.33)\n",
      "Requirement already satisfied: PyYAML>=5.3 in /Users/baegjonghun/.pyenv/versions/3.11.10/lib/python3.11/site-packages (from langchain-core<1.0.0,>=0.3.68->langchain-anthropic) (6.0.2)\n",
      "Requirement already satisfied: packaging>=23.2 in /Users/baegjonghun/.pyenv/versions/3.11.10/lib/python3.11/site-packages (from langchain-core<1.0.0,>=0.3.68->langchain-anthropic) (24.2)\n",
      "Requirement already satisfied: jsonpointer>=1.9 in /Users/baegjonghun/.pyenv/versions/3.11.10/lib/python3.11/site-packages (from jsonpatch<2.0,>=1.33->langchain-core<1.0.0,>=0.3.68->langchain-anthropic) (3.0.0)\n",
      "Requirement already satisfied: annotated-types>=0.6.0 in /Users/baegjonghun/.pyenv/versions/3.11.10/lib/python3.11/site-packages (from pydantic<3.0.0,>=2.7.4->langchain-anthropic) (0.7.0)\n",
      "Requirement already satisfied: pydantic-core==2.33.1 in /Users/baegjonghun/.pyenv/versions/3.11.10/lib/python3.11/site-packages (from pydantic<3.0.0,>=2.7.4->langchain-anthropic) (2.33.1)\n",
      "Requirement already satisfied: typing-inspection>=0.4.0 in /Users/baegjonghun/.pyenv/versions/3.11.10/lib/python3.11/site-packages (from pydantic<3.0.0,>=2.7.4->langchain-anthropic) (0.4.0)\n",
      "Requirement already satisfied: orjson<4.0.0,>=3.9.14 in /Users/baegjonghun/.pyenv/versions/3.11.10/lib/python3.11/site-packages (from langsmith>=0.3.45->langchain-core<1.0.0,>=0.3.68->langchain-anthropic) (3.10.18)\n",
      "Requirement already satisfied: requests<3,>=2 in /Users/baegjonghun/.pyenv/versions/3.11.10/lib/python3.11/site-packages (from langsmith>=0.3.45->langchain-core<1.0.0,>=0.3.68->langchain-anthropic) (2.32.4)\n",
      "Requirement already satisfied: requests-toolbelt<2.0.0,>=1.0.0 in /Users/baegjonghun/.pyenv/versions/3.11.10/lib/python3.11/site-packages (from langsmith>=0.3.45->langchain-core<1.0.0,>=0.3.68->langchain-anthropic) (1.0.0)\n",
      "Requirement already satisfied: zstandard<0.24.0,>=0.23.0 in /Users/baegjonghun/.pyenv/versions/3.11.10/lib/python3.11/site-packages (from langsmith>=0.3.45->langchain-core<1.0.0,>=0.3.68->langchain-anthropic) (0.23.0)\n",
      "Requirement already satisfied: charset_normalizer<4,>=2 in /Users/baegjonghun/.pyenv/versions/3.11.10/lib/python3.11/site-packages (from requests<3,>=2->langsmith>=0.3.45->langchain-core<1.0.0,>=0.3.68->langchain-anthropic) (3.4.2)\n",
      "Requirement already satisfied: urllib3<3,>=1.21.1 in /Users/baegjonghun/.pyenv/versions/3.11.10/lib/python3.11/site-packages (from requests<3,>=2->langsmith>=0.3.45->langchain-core<1.0.0,>=0.3.68->langchain-anthropic) (2.5.0)\n",
      "Downloading langchain_anthropic-0.3.17-py3-none-any.whl (29 kB)\n",
      "Downloading anthropic-0.58.2-py3-none-any.whl (292 kB)\n",
      "Installing collected packages: anthropic, langchain-anthropic\n",
      "\u001b[2K   \u001b[38;2;114;156;31m━━━━━━━━━━━━━━━━━━━━━━━━━━━━━━━━━━━━━━━━\u001b[0m \u001b[32m2/2\u001b[0m [langchain-anthropic]\n",
      "\u001b[1A\u001b[2KSuccessfully installed anthropic-0.58.2 langchain-anthropic-0.3.17\n"
     ]
    }
   ],
   "source": [
    "!pip install langchain-anthropic"
   ]
  },
  {
   "cell_type": "code",
   "execution_count": 12,
   "id": "8ea6c25f",
   "metadata": {},
   "outputs": [],
   "source": [
    "import os\n",
    "from langchain_anthropic import ChatAnthropic\n",
    "from langchain.prompts import ChatPromptTemplate\n",
    "from langchain_core.messages import HumanMessage, AIMessage\n",
    "from langchain.memory import ChatMessageHistory"
   ]
  },
  {
   "cell_type": "code",
   "execution_count": null,
   "id": "d9cf48c9",
   "metadata": {},
   "outputs": [],
   "source": [
    "\n",
    "\n",
    "# 대화형 Claude 모델 초기화\n",
    "chat = ChatAnthropic(model=\"claude-3-haiku-20240307\", temperature=0.7)"
   ]
  },
  {
   "cell_type": "code",
   "execution_count": 28,
   "id": "39e4ac1a",
   "metadata": {},
   "outputs": [],
   "source": [
    "# chat_history = ChatMessageHistory()\n",
    "\n",
    "# # 📝 초기 대화 저장(선택)\n",
    "# chat_history.add_user_message(\"안녕하세요. 제 이름은 산초입니다.\")\n",
    "# chat_history.add_ai_message(\"안녕하세요, 산초님! 무엇을 도와드릴까요?\")\n"
   ]
  },
  {
   "cell_type": "code",
   "execution_count": 29,
   "id": "33529489",
   "metadata": {},
   "outputs": [],
   "source": [
    "prompt = ChatPromptTemplate.from_messages([\n",
    "    (\n",
    "        \"system\",\n",
    "        \"너는 친절한 한국어 비서야. 이전 대화 내용을 참고해서 질문에 답하며, 반드시 한국어로만 대답해.\"\n",
    "    ),\n",
    "    (\"placeholder\", \"{chat_history}\"),\n",
    "    (\"user\", \"{input}\")\n",
    "])\n"
   ]
  },
  {
   "cell_type": "code",
   "execution_count": 30,
   "id": "97f75981",
   "metadata": {},
   "outputs": [],
   "source": [
    "def limit_chat_history(history_obj, max_turns=3):\n",
    "    \"\"\"\n",
    "    최근 'max_turns'번의 사용자-AI 대화만 남기기 (각 각 1개씩, 총 6개 메세지 유지)\n",
    "    \"\"\"\n",
    "    max_messages = max_turns * 2  # 사용자 + AI = 2씩 곱함\n",
    "    if len(history_obj.messages) > max_messages:\n",
    "        history_obj.messages = history_obj.messages[-max_messages:]\n"
   ]
  },
  {
   "cell_type": "code",
   "execution_count": 31,
   "id": "c4f9183b",
   "metadata": {},
   "outputs": [],
   "source": [
    "from langchain_core.runnables import Runnable\n",
    "\n",
    "# 대화 체인 구성\n",
    "chain_with_history_limit = prompt | chat\n",
    "\n",
    "def chat_with_bot(user_input):\n",
    "    if user_input.strip().lower() == \"리셋\":\n",
    "        chat_history.clear()\n",
    "        return \"✅ 대화 기록이 초기화되었습니다.\"\n",
    "\n",
    "    elif user_input.strip().lower() == \"히스토리\":\n",
    "        return show_chat_history()\n",
    "\n",
    "    # 사용자 입력 저장\n",
    "    chat_history.add_user_message(user_input)\n",
    "\n",
    "    # 히스토리 제한 적용\n",
    "    limit_chat_history(chat_history)\n",
    "\n",
    "    try:\n",
    "        # AI에 입력 보내고 응답 받기\n",
    "        response = chain_with_history_limit.invoke({\n",
    "            \"input\": user_input,\n",
    "            \"chat_history\": chat_history.messages\n",
    "        })\n",
    "        \n",
    "        # AI 응답 저장\n",
    "        chat_history.add_ai_message(response.content)\n",
    "        return response.content\n",
    "    \n",
    "    except Exception as e:\n",
    "        return f\"❌ 오류 발생: {str(e)}\"\n"
   ]
  },
  {
   "cell_type": "code",
   "execution_count": 32,
   "id": "f45e1f86",
   "metadata": {},
   "outputs": [],
   "source": [
    "def show_chat_history():\n",
    "    print(\"🕓 현재 대화 기록 (최근 3회 대화만 표시됨):\")\n",
    "    for i, message in enumerate(chat_history.messages):\n",
    "        speaker = \"👤 사용자\" if isinstance(message, HumanMessage) else \"🤖 AI\"\n",
    "        print(f\"{i+1}. [{speaker}]: {message.content}\")\n",
    "    return \"\""
   ]
  },
  {
   "cell_type": "code",
   "execution_count": 38,
   "id": "38ed4b7b",
   "metadata": {},
   "outputs": [
    {
     "name": "stdout",
     "output_type": "stream",
     "text": [
      "안녕하세요, 산초님. 반갑습니다. 제가 도와드릴 수 있는 일이 있나요?\n"
     ]
    }
   ],
   "source": [
    "print(chat_with_bot(\"내이름은 산초야\"))\n"
   ]
  },
  {
   "cell_type": "code",
   "execution_count": 39,
   "id": "dc5f12d9",
   "metadata": {},
   "outputs": [
    {
     "name": "stdout",
     "output_type": "stream",
     "text": [
      "네, 알겠습니다. 산초님의 이름이 맞습니다.\n"
     ]
    }
   ],
   "source": [
    "print(chat_with_bot(\"내이름은 뭐야?\"))"
   ]
  },
  {
   "cell_type": "code",
   "execution_count": 40,
   "id": "eb4e4b5d",
   "metadata": {},
   "outputs": [
    {
     "name": "stdout",
     "output_type": "stream",
     "text": [
      "🕓 현재 대화 기록 (최근 3회 대화만 표시됨):\n",
      "1. [👤 사용자]: 내이름은 산초야\n",
      "2. [🤖 AI]: 안녕하세요, 산초님. 반갑습니다. 제가 도와드릴 수 있는 일이 있나요?\n",
      "3. [👤 사용자]: 내이름은 뭐야?\n",
      "4. [🤖 AI]: 네, 알겠습니다. 산초님의 이름이 맞습니다.\n",
      "\n"
     ]
    }
   ],
   "source": [
    "print(chat_with_bot(\"히스토리\"))"
   ]
  },
  {
   "cell_type": "code",
   "execution_count": 37,
   "id": "4df6be3b",
   "metadata": {},
   "outputs": [
    {
     "name": "stdout",
     "output_type": "stream",
     "text": [
      "✅ 대화 기록이 초기화되었습니다.\n"
     ]
    }
   ],
   "source": [
    "print(chat_with_bot(\"리셋\"))"
   ]
  },
  {
   "cell_type": "code",
   "execution_count": 34,
   "id": "a2c16559",
   "metadata": {},
   "outputs": [
    {
     "name": "stdout",
     "output_type": "stream",
     "text": [
      "죄송합니다. 제가 알고 있는 정보로는 당신의 이름이 무엇인지 정확히 알 수 없습니다. 앞서 말씀하신 것처럼 당신의 이름이 산초님이라고 들었지만, 다시 한번 묻고 싶습니다. 당신의 이름이 무엇인지 알려주시면 감사하겠습니다.\n"
     ]
    }
   ],
   "source": [
    "print(chat_with_bot(\"내 이름이 뭐야\"))"
   ]
  },
  {
   "cell_type": "code",
   "execution_count": null,
   "id": "889de23e",
   "metadata": {},
   "outputs": [],
   "source": []
  }
 ],
 "metadata": {
  "kernelspec": {
   "display_name": "3.11.10",
   "language": "python",
   "name": "python3"
  },
  "language_info": {
   "codemirror_mode": {
    "name": "ipython",
    "version": 3
   },
   "file_extension": ".py",
   "mimetype": "text/x-python",
   "name": "python",
   "nbconvert_exporter": "python",
   "pygments_lexer": "ipython3",
   "version": "3.11.10"
  }
 },
 "nbformat": 4,
 "nbformat_minor": 5
}
