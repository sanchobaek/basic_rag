{
 "cells": [
  {
   "cell_type": "markdown",
   "id": "98ec86dd",
   "metadata": {},
   "source": [
    "패키지 설치\n"
   ]
  },
  {
   "cell_type": "code",
   "execution_count": 41,
   "id": "d8e658b3",
   "metadata": {},
   "outputs": [],
   "source": [
    "# .env 파일 로드\n",
    "from dotenv import load_dotenv\n",
    "\n",
    "load_dotenv()  # .env 파일에서 환경변수 로드\n",
    "\n",
    "# 이제 로더 실행\n",
    "from langchain_upstage import UpstageDocumentParseLoader\n",
    "\n",
    "file_path = \"./test_modified.pdf\"\n",
    "\n",
    "loader = UpstageDocumentParseLoader(\n",
    "    file_path,\n",
    "    split=\"page\",  # 페이지별로 분할\n",
    "    output_format=\"text\",  # 텍스트 형태로 출력\n",
    "    ocr=\"auto\",  # 자동 OCR 사용\n",
    "    coordinates=True,  # 좌표 정보 포함\n",
    ")\n",
    "\n",
    "\n",
    "docs = loader.load()"
   ]
  },
  {
   "cell_type": "code",
   "execution_count": 48,
   "id": "89abecfb",
   "metadata": {},
   "outputs": [],
   "source": [
    "# # 결과 출력\n",
    "# for doc in docs[20:21]:\n",
    "#     print(doc)"
   ]
  },
  {
   "cell_type": "code",
   "execution_count": 42,
   "id": "6d432f82",
   "metadata": {},
   "outputs": [
    {
     "name": "stdout",
     "output_type": "stream",
     "text": [
      "AJOU SPECIAL PROGRAM 파단 악기\n",
      "성과발 표호\n",
      "곳에서\n",
      "Zers Oned!\n",
      "700,000원 사례할일부\n",
      "100, 000원\n",
      "홍콩의 조사용성\n",
      "L000. ,000원\n",
      "자전집중상\n",
      "황금성화상\n",
      "100,000원\n",
      "800,000원 생과발표회 장소 율곡면 HU 주최될주민 0 아주대학교 교육역�� 유연한 사고와 도전으로\n",
      "내 안의 히어로를 깨우는 시간,\n",
      "파란학기제 세상의 문제를 스스로 정의하고, 나만의 방식으로 해결해보는 경험.\n",
      "아주대학교의 '파란학기제'는 학생이 주도적으로 도전 과제를 설계하고\n",
      "실행하며, 내면의 가능성과 잠재력을 직접 깨우는 특별한 학기입니다.\n",
      "파란학기제는 자기주도성, 교육적 성과, 기존 교육과정과의 차별성 등을\n",
      "바탕으로 운영위원회의 심의를 거쳐 활동을 학점으로 인정하는 제도\n",
      "입니다. 배움의 무대는 교실을 넘어 현실로 확장되고, 그 안에서 아주의\n",
      "히어로들은 스스로의 힘으로 세상에 긍정적인 변화를 만들어갑니다. 파란학기제와 함께\n",
      "빛나는 아주 히어로들의\n",
      "다양한 도전 방식! 학생설계 프로그램 학생 스스로 주제를 정하고 과제를\n",
      "기획하는 자율 설계형 프로그램입니다.\n",
      "학문·기술·예술 등 영역의 제한 없이,\n",
      "자신이 몰입하고 싶은 분야에 자유롭게\n",
      "도전할 수 있습니다.\n",
      "예) 뉴미디어상의 마케팅 활용을 위한\n",
      "패션필름 제작 교수제안 프로그램 아주대학교 교수진이 직접 기획한\n",
      "교육·연구 중심 프로그램에 학생이\n",
      "참여하는 방식입니다. 전문성과 실현\n",
      "가능성이 검증된 과제에 함께하며,\n",
      "협업과 실무 역량을 키울 수 있습니다.\n",
      "예) 시각장애인을 위한 거리측정\n",
      "센서 장치 개발 기업제안 프로그램 현직 기업이 직접 제안한 실무형\n",
      "프로그램에 참여할 수 있는 기회입니다.\n",
      "실제 산업 현장에서 마주하는 과제를\n",
      "경험하며, 실질적인 문제 해결 능력과\n",
      "진로 탐색 역량을 강화합니다. 예) 친환경 포장재 개선을 위한\n",
      "소비자 행동 분석 프로젝트 04 AJOU UNIVERSITY\n"
     ]
    }
   ],
   "source": [
    "print(docs[1].page_content)"
   ]
  },
  {
   "cell_type": "code",
   "execution_count": 18,
   "id": "e499a2b9",
   "metadata": {},
   "outputs": [],
   "source": [
    "from langchain.text_splitter import RecursiveCharacterTextSplitter\n"
   ]
  },
  {
   "cell_type": "code",
   "execution_count": 23,
   "id": "3ce9846a",
   "metadata": {},
   "outputs": [],
   "source": [
    "# 문서 자르기 (AI가 읽기 쉬운 크기로 쪼개기)\n",
    "splitter = RecursiveCharacterTextSplitter(chunk_size=1000, chunk_overlap=200)\n",
    "split_docs = splitter.split_documents(docs)"
   ]
  },
  {
   "cell_type": "code",
   "execution_count": 24,
   "id": "cafc74db",
   "metadata": {},
   "outputs": [
    {
     "data": {
      "text/plain": [
       "67"
      ]
     },
     "execution_count": 24,
     "metadata": {},
     "output_type": "execute_result"
    }
   ],
   "source": [
    "len(split_docs)"
   ]
  },
  {
   "cell_type": "code",
   "execution_count": 40,
   "id": "f98a8156",
   "metadata": {},
   "outputs": [
    {
     "name": "stdout",
     "output_type": "stream",
     "text": [
      "3 전형별, 모집단위별 모집인원 1 정원내 계열 대학 모집단위 수시모집 정시모집\n",
      " 고교 추천 전형 ACE 전형 첨단 융합 인재 전형 고른 기회1 전형 고른 기회2 전형 논술 우수자 전형 체육 우수자 (축구) 전형 나군 다군\n",
      " 일반 전형1 일반 전형2 일반 전형3 일반 전형4 (교차)\n",
      " 자연 인문 공과대학 다산학부 기계공학과 23 자유전공학부(인문) 365 42 0 6 5 45 5 0 0 0 33 15 0\n",
      " 산업공학과 20 23 0 4 2 0 0 0 0 20 0\n",
      " 화학공학과 5 17 0 1 1 5 0 0 0 7 0\n",
      " 첨단신소재공학과 15 0 36 2 2 8 0 0 0 22 0\n",
      " 응용화학과 6 0 17 1 1 0 0 0 0 146 7 0\n",
      " 환경안전공학과 5 13 0 2 0 0 0 0 0 11 0\n",
      " 건설시스템공학과 7 13 0 2 91 1 0 0 0 0 7 0\n",
      " 교통시스템공학과 7 13 0 약학과 3 0 0 0 0 0 7 0\n",
      " 건축학과 10 23 0 3 2 11 0 0 0 10 0\n",
      " 융합시스템공학과 0 0 0 0 0 0 0 0 0 0 0\n",
      " 첨단ICT 융합대학 전자공학과 30 32 0 11 5 37 합계 0 0 0 32 0\n",
      " 지능형반도체공학과 5 0 자유전공학부(자연) 10 2 1 5 0 0 0 17 0\n",
      " 미래모빌리티공학과 22 0 42 7 5 14 0 0 0 47 0 0\n",
      " 소프트웨어 소프트웨어학과 11 16 30 4 2 10 0 0 0 0 0 11 0 0\n",
      " 사이버보안학과 8 15 0 2 0 0 0 20 0 0 0 0 7 0 의과대학 0\n",
      " 융합대학 디지털미디어학과 의학과 18 15 42 40 0 0 5 0 2 0 0 0 45 0 0 10 0 0\n",
      " 국방디지털융합학과 간호학과 0 7 0 25 0 0 0 0 2 2 0 0 0 0 0 0 0 0 0 22 0 12 0\n",
      " 자연과학 대학 간호대학 약학대학 수학과 3 10 0 1 0 0 16 27 0 0 10 0 3 0 0\n",
      " 프런티어과학학부 18 0 50 0 6 5 0 5 0 0 0 0 0 30 0 0\n"
     ]
    }
   ],
   "source": [
    "print(split_docs[32].page_content)"
   ]
  },
  {
   "cell_type": "code",
   "execution_count": null,
   "id": "2f41ddff",
   "metadata": {},
   "outputs": [],
   "source": []
  }
 ],
 "metadata": {
  "kernelspec": {
   "display_name": "3.11.10",
   "language": "python",
   "name": "python3"
  },
  "language_info": {
   "codemirror_mode": {
    "name": "ipython",
    "version": 3
   },
   "file_extension": ".py",
   "mimetype": "text/x-python",
   "name": "python",
   "nbconvert_exporter": "python",
   "pygments_lexer": "ipython3",
   "version": "3.11.10"
  }
 },
 "nbformat": 4,
 "nbformat_minor": 5
}
